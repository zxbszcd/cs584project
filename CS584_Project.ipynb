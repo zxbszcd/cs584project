{
 "cells": [
  {
   "cell_type": "code",
   "execution_count": null,
   "metadata": {
    "collapsed": true
   },
   "outputs": [],
   "source": [
    "# download data set"
   ]
  },
  {
   "cell_type": "code",
   "execution_count": null,
   "outputs": [],
   "source": [
    "!cd srdata && wget http://data.vision.ee.ethz.ch/cvl/DIV2K/DIV2K_train_LR_bicubic_X2.zip\n",
    "!cd srdata && wget http://data.vision.ee.ethz.ch/cvl/DIV2K/DIV2K_valid_LR_bicubic_X2.zip\n",
    "\n",
    "!cd srdata && wget http://data.vision.ee.ethz.ch/cvl/DIV2K/DIV2K_train_LR_bicubic_X3.zip\n",
    "!cd srdata && wget http://data.vision.ee.ethz.ch/cvl/DIV2K/DIV2K_valid_LR_bicubic_X3.zip\n",
    "\n",
    "!cd srdata && wget http://data.vision.ee.ethz.ch/cvl/DIV2K/DIV2K_train_LR_bicubic_X4.zip\n",
    "!cd srdata && wget http://data.vision.ee.ethz.ch/cvl/DIV2K/DIV2K_valid_LR_bicubic_X4.zip\n",
    "\n",
    "!cd srdata && wget http://data.vision.ee.ethz.ch/cvl/DIV2K/DIV2K_train_LR_x8.zip\n",
    "!cd srdata && wget http://data.vision.ee.ethz.ch/cvl/DIV2K/DIV2K_valid_LR_x8.zip\n",
    "\n",
    "!cd srdata && wget http://data.vision.ee.ethz.ch/cvl/DIV2K/DIV2K_train_HR.zip\n",
    "!cd srdata && wget http://data.vision.ee.ethz.ch/cvl/DIV2K/DIV2K_valid_HR.zip"
   ],
   "metadata": {
    "collapsed": false,
    "pycharm": {
     "name": "#%%\n"
    }
   }
  },
  {
   "cell_type": "code",
   "execution_count": null,
   "outputs": [],
   "source": [
    "!cd srdata&& unzip DIV2K_train_LR_bicubic_X2.zip\n",
    "!cd srdata&& unzip DIV2K_valid_LR_bicubic_X2.zip\n",
    "\n",
    "!cd srdata&& unzip DIV2K_train_LR_bicubic_X3.zip\n",
    "!cd srdata&& unzip DIV2K_valid_LR_bicubic_X3.zip\n",
    "\n",
    "!cd srdata&& unzip DIV2K_train_LR_bicubic_X4.zip\n",
    "!cd srdata&& unzip DIV2K_valid_LR_bicubic_X4.zip\n",
    "\n",
    "!cd srdata&& unzip DIV2K_train_LR_x8.zip\n",
    "!cd srdata&& unzip DIV2K_valid_LR_x8.zip\n",
    "\n",
    "!cd srdata&& unzip DIV2K_train_HR.zip\n",
    "!cd srdata&& unzip DIV2K_valid_HR.zip\n"
   ],
   "metadata": {
    "collapsed": false,
    "pycharm": {
     "name": "#%%\n"
    }
   }
  }
 ],
 "metadata": {
  "kernelspec": {
   "display_name": "Python 3",
   "language": "python",
   "name": "python3"
  },
  "language_info": {
   "codemirror_mode": {
    "name": "ipython",
    "version": 2
   },
   "file_extension": ".py",
   "mimetype": "text/x-python",
   "name": "python",
   "nbconvert_exporter": "python",
   "pygments_lexer": "ipython2",
   "version": "2.7.6"
  }
 },
 "nbformat": 4,
 "nbformat_minor": 0
}